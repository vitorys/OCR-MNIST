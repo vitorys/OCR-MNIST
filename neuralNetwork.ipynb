{
 "cells": [
  {
   "cell_type": "markdown",
   "metadata": {},
   "source": [
    "# Simple OCR using MNIST dataset with Neural Network\n"
   ]
  },
  {
   "cell_type": "markdown",
   "metadata": {},
   "source": [
    "### Let's import all dependencies  \n",
    "#### We'll use Keras for NN Models and Layers  \n",
    "#### Scikit Learn for normalization  \n",
    "#### Numpy for manipulate arrays  \n"
   ]
  },
  {
   "cell_type": "code",
   "execution_count": 2,
   "metadata": {},
   "outputs": [],
   "source": [
    "from keras.models import Sequential\n",
    "from keras.layers import Dense, Dropout, Activation, Flatten\n",
    "from keras.datasets import mnist\n",
    "import keras.utils as np_utils\n",
    "from keras.optimizers import SGD\n",
    "import numpy as np\n",
    "from sklearn.preprocessing import normalize"
   ]
  },
  {
   "cell_type": "markdown",
   "metadata": {},
   "source": [
    "### Getting the dataset from Keras and reshape to submit to the Neural Network.\n",
    "\n",
    "Out features, will be the pixels from the image.  \n",
    "Each image has a resolution of 28x28. So, we have 28*28 features."
   ]
  },
  {
   "cell_type": "code",
   "execution_count": 3,
   "metadata": {},
   "outputs": [],
   "source": [
    "# Loading the dataset\n",
    "(x_train, y_train), (x_test, y_test) = mnist.load_data()\n",
    "\n",
    "# Applying reshape to all entries.\n",
    "x_train = x_train.reshape(x_train.shape[0], 28*28)\n",
    "x_test = x_test.reshape(x_test.shape[0], 28*28)"
   ]
  },
  {
   "cell_type": "markdown",
   "metadata": {},
   "source": [
    "## Normalize data!\n",
    "\n",
    "Let's normalize the gray level of each image.  \n",
    "[0-255] -> [0-1]  \n",
    "This step helps to increase accuracy."
   ]
  },
  {
   "cell_type": "code",
   "execution_count": 4,
   "metadata": {},
   "outputs": [],
   "source": [
    "x_train = normalize(x_train)\n",
    "x_test = normalize(x_test)"
   ]
  },
  {
   "cell_type": "markdown",
   "metadata": {},
   "source": [
    "## Setting the labels\n",
    "\n",
    "The dataset has 10 classes, so, we'll have to transform for example:\n",
    "\n",
    "0 into [1, 0, 0, 0, 0, 0, 0, 0, 0, 0]  \n",
    "1 into [0, 1, 0, 0, 0, 0, 0, 0, 0, 0]  \n",
    "2 into [0, 0, 1, 0, 0, 0, 0, 0, 0, 0]\n",
    "\n",
    "etc..\n",
    "\n",
    "This relies to the architecture that we'll build.\n"
   ]
  },
  {
   "cell_type": "code",
   "execution_count": 5,
   "metadata": {},
   "outputs": [],
   "source": [
    "y_train = np_utils.to_categorical(y_train)\n",
    "y_test = np_utils.to_categorical(y_test)"
   ]
  },
  {
   "cell_type": "markdown",
   "metadata": {},
   "source": [
    "## Building the Architecture\n"
   ]
  },
  {
   "cell_type": "code",
   "execution_count": 6,
   "metadata": {},
   "outputs": [],
   "source": [
    "model = Sequential()\n",
    "model.add(Dense(784, activation=\"relu\"))\n",
    "model.add(Dense(10, activation=\"relu\"))\n",
    "model.add(Dense(10, activation=\"softmax\"))"
   ]
  },
  {
   "cell_type": "markdown",
   "metadata": {},
   "source": [
    "## Setting up optimizer"
   ]
  },
  {
   "cell_type": "code",
   "execution_count": 7,
   "metadata": {},
   "outputs": [],
   "source": [
    "sgd = SGD(lr=0.01, decay=1e-6, momentum=0.9, nesterov=True)"
   ]
  },
  {
   "cell_type": "markdown",
   "metadata": {},
   "source": [
    "## Compiling the model"
   ]
  },
  {
   "cell_type": "code",
   "execution_count": 8,
   "metadata": {},
   "outputs": [],
   "source": [
    "model.compile(loss='categorical_crossentropy',\n",
    "              optimizer=sgd,\n",
    "              metrics=['accuracy'])"
   ]
  },
  {
   "cell_type": "markdown",
   "metadata": {},
   "source": [
    "## Predicting and evaluating model"
   ]
  },
  {
   "cell_type": "code",
   "execution_count": 9,
   "metadata": {},
   "outputs": [
    {
     "name": "stdout",
     "output_type": "stream",
     "text": [
      "Epoch 1/10\n",
      "60000/60000 [==============================] - 17s 279us/step - loss: 0.7303 - acc: 0.7892\n",
      "Epoch 2/10\n",
      "60000/60000 [==============================] - 16s 265us/step - loss: 0.3026 - acc: 0.9118\n",
      "Epoch 3/10\n",
      "60000/60000 [==============================] - 17s 284us/step - loss: 0.2212 - acc: 0.9362\n",
      "Epoch 4/10\n",
      "60000/60000 [==============================] - 16s 266us/step - loss: 0.1725 - acc: 0.9491\n",
      "Epoch 5/10\n",
      "60000/60000 [==============================] - 16s 267us/step - loss: 0.1381 - acc: 0.9593\n",
      "Epoch 6/10\n",
      "60000/60000 [==============================] - 16s 268us/step - loss: 0.1153 - acc: 0.9661\n",
      "Epoch 7/10\n",
      "60000/60000 [==============================] - 17s 281us/step - loss: 0.0976 - acc: 0.9713\n",
      "Epoch 8/10\n",
      "60000/60000 [==============================] - 17s 278us/step - loss: 0.0840 - acc: 0.9751\n",
      "Epoch 9/10\n",
      "60000/60000 [==============================] - 17s 284us/step - loss: 0.0730 - acc: 0.9786\n",
      "Epoch 10/10\n",
      "60000/60000 [==============================] - 14s 231us/step - loss: 0.0649 - acc: 0.9812\n",
      "10000/10000 [==============================] - 0s 27us/step\n"
     ]
    }
   ],
   "source": [
    "model.fit(x_train, y_train, epochs=10)\n",
    "score = model.evaluate(x_test, y_test, batch_size=128)"
   ]
  }
 ],
 "metadata": {
  "kernelspec": {
   "display_name": "Python 2",
   "language": "python",
   "name": "python2"
  },
  "language_info": {
   "codemirror_mode": {
    "name": "ipython",
    "version": 2
   },
   "file_extension": ".py",
   "mimetype": "text/x-python",
   "name": "python",
   "nbconvert_exporter": "python",
   "pygments_lexer": "ipython2",
   "version": "2.7.14"
  }
 },
 "nbformat": 4,
 "nbformat_minor": 2
}
